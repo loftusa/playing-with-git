{
 "cells": [
  {
   "cell_type": "code",
   "execution_count": 2,
   "metadata": {
    "collapsed": true
   },
   "outputs": [],
   "source": [
    "import pandas as pd\n",
    "import numpy as np\n",
    "import matplotlib.pyplot as plt\n",
    "%matplotlib inline\n",
    "from IPython.core.interactiveshell import InteractiveShell\n",
    "InteractiveShell.ast_node_interactivity = \"all\""
   ]
  },
  {
   "cell_type": "code",
   "execution_count": 6,
   "metadata": {},
   "outputs": [],
   "source": [
    "df = pd.read_csv('Activity.CSV', index_col=False)"
   ]
  },
  {
   "cell_type": "code",
   "execution_count": 8,
   "metadata": {},
   "outputs": [
    {
     "data": {
      "text/html": [
       "<div>\n",
       "<style scoped>\n",
       "    .dataframe tbody tr th:only-of-type {\n",
       "        vertical-align: middle;\n",
       "    }\n",
       "\n",
       "    .dataframe tbody tr th {\n",
       "        vertical-align: top;\n",
       "    }\n",
       "\n",
       "    .dataframe thead th {\n",
       "        text-align: right;\n",
       "    }\n",
       "</style>\n",
       "<table border=\"1\" class=\"dataframe\">\n",
       "  <thead>\n",
       "    <tr style=\"text-align: right;\">\n",
       "      <th></th>\n",
       "      <th>Details</th>\n",
       "      <th>Posting Date</th>\n",
       "      <th>Description</th>\n",
       "      <th>Amount</th>\n",
       "      <th>Type</th>\n",
       "      <th>Balance</th>\n",
       "      <th>Check or Slip #</th>\n",
       "    </tr>\n",
       "  </thead>\n",
       "  <tbody>\n",
       "    <tr>\n",
       "      <th>0</th>\n",
       "      <td>DEBIT</td>\n",
       "      <td>07/24/2018</td>\n",
       "      <td>POS DEBIT                COLLEGE TRANSCRIPT   ...</td>\n",
       "      <td>-14.00</td>\n",
       "      <td>MISC_DEBIT</td>\n",
       "      <td></td>\n",
       "      <td>NaN</td>\n",
       "    </tr>\n",
       "    <tr>\n",
       "      <th>1</th>\n",
       "      <td>DEBIT</td>\n",
       "      <td>07/24/2018</td>\n",
       "      <td>POS DEBIT                BLENZ COFFEE WEST HAS...</td>\n",
       "      <td>-9.25</td>\n",
       "      <td>MISC_DEBIT</td>\n",
       "      <td></td>\n",
       "      <td>NaN</td>\n",
       "    </tr>\n",
       "    <tr>\n",
       "      <th>2</th>\n",
       "      <td>DEBIT</td>\n",
       "      <td>07/24/2018</td>\n",
       "      <td>POS DEBIT                CITY OF VAN PAYBYPHON...</td>\n",
       "      <td>-2.44</td>\n",
       "      <td>MISC_DEBIT</td>\n",
       "      <td></td>\n",
       "      <td>NaN</td>\n",
       "    </tr>\n",
       "    <tr>\n",
       "      <th>3</th>\n",
       "      <td>DEBIT</td>\n",
       "      <td>07/24/2018</td>\n",
       "      <td>POS DEBIT                CITY OF VAN PAYBYPHON...</td>\n",
       "      <td>-2.42</td>\n",
       "      <td>MISC_DEBIT</td>\n",
       "      <td></td>\n",
       "      <td>NaN</td>\n",
       "    </tr>\n",
       "    <tr>\n",
       "      <th>4</th>\n",
       "      <td>CREDIT</td>\n",
       "      <td>07/24/2018</td>\n",
       "      <td>ORIG CO NAME:KEY CR. TRANSFER CO ENTRY DESCR:O...</td>\n",
       "      <td>1103.00</td>\n",
       "      <td>ACH_CREDIT</td>\n",
       "      <td></td>\n",
       "      <td>NaN</td>\n",
       "    </tr>\n",
       "    <tr>\n",
       "      <th>5</th>\n",
       "      <td>CREDIT</td>\n",
       "      <td>07/24/2018</td>\n",
       "      <td>PYMT RCVD                PAYPAL*LOFTUS ALEXAND...</td>\n",
       "      <td>572.75</td>\n",
       "      <td>MISC_CREDIT</td>\n",
       "      <td></td>\n",
       "      <td>NaN</td>\n",
       "    </tr>\n",
       "    <tr>\n",
       "      <th>6</th>\n",
       "      <td>DEBIT</td>\n",
       "      <td>07/23/2018</td>\n",
       "      <td>THE HORSESHOE CAFE BELLINGHAM WA             0...</td>\n",
       "      <td>-17.20</td>\n",
       "      <td>DEBIT_CARD</td>\n",
       "      <td>134.61</td>\n",
       "      <td>NaN</td>\n",
       "    </tr>\n",
       "    <tr>\n",
       "      <th>7</th>\n",
       "      <td>DEBIT</td>\n",
       "      <td>07/23/2018</td>\n",
       "      <td>HAGGEN #3449 BELLINGHAM WA           416798  0...</td>\n",
       "      <td>-39.22</td>\n",
       "      <td>DEBIT_CARD</td>\n",
       "      <td>151.81</td>\n",
       "      <td>NaN</td>\n",
       "    </tr>\n",
       "    <tr>\n",
       "      <th>8</th>\n",
       "      <td>DEBIT</td>\n",
       "      <td>07/23/2018</td>\n",
       "      <td>HAGGEN #3449 BELLINGHAM WA           402487  0...</td>\n",
       "      <td>-14.89</td>\n",
       "      <td>DEBIT_CARD</td>\n",
       "      <td>191.03</td>\n",
       "      <td>NaN</td>\n",
       "    </tr>\n",
       "    <tr>\n",
       "      <th>9</th>\n",
       "      <td>DEBIT</td>\n",
       "      <td>07/23/2018</td>\n",
       "      <td>THE SANDWICH ODYSSEY BELLINGHAM WA           0...</td>\n",
       "      <td>-13.00</td>\n",
       "      <td>DEBIT_CARD</td>\n",
       "      <td>205.92</td>\n",
       "      <td>NaN</td>\n",
       "    </tr>\n",
       "  </tbody>\n",
       "</table>\n",
       "</div>"
      ],
      "text/plain": [
       "  Details Posting Date                                        Description  \\\n",
       "0   DEBIT   07/24/2018  POS DEBIT                COLLEGE TRANSCRIPT   ...   \n",
       "1   DEBIT   07/24/2018  POS DEBIT                BLENZ COFFEE WEST HAS...   \n",
       "2   DEBIT   07/24/2018  POS DEBIT                CITY OF VAN PAYBYPHON...   \n",
       "3   DEBIT   07/24/2018  POS DEBIT                CITY OF VAN PAYBYPHON...   \n",
       "4  CREDIT   07/24/2018  ORIG CO NAME:KEY CR. TRANSFER CO ENTRY DESCR:O...   \n",
       "5  CREDIT   07/24/2018  PYMT RCVD                PAYPAL*LOFTUS ALEXAND...   \n",
       "6   DEBIT   07/23/2018  THE HORSESHOE CAFE BELLINGHAM WA             0...   \n",
       "7   DEBIT   07/23/2018  HAGGEN #3449 BELLINGHAM WA           416798  0...   \n",
       "8   DEBIT   07/23/2018  HAGGEN #3449 BELLINGHAM WA           402487  0...   \n",
       "9   DEBIT   07/23/2018  THE SANDWICH ODYSSEY BELLINGHAM WA           0...   \n",
       "\n",
       "    Amount         Type Balance  Check or Slip #  \n",
       "0   -14.00   MISC_DEBIT                      NaN  \n",
       "1    -9.25   MISC_DEBIT                      NaN  \n",
       "2    -2.44   MISC_DEBIT                      NaN  \n",
       "3    -2.42   MISC_DEBIT                      NaN  \n",
       "4  1103.00   ACH_CREDIT                      NaN  \n",
       "5   572.75  MISC_CREDIT                      NaN  \n",
       "6   -17.20   DEBIT_CARD  134.61              NaN  \n",
       "7   -39.22   DEBIT_CARD  151.81              NaN  \n",
       "8   -14.89   DEBIT_CARD  191.03              NaN  \n",
       "9   -13.00   DEBIT_CARD  205.92              NaN  "
      ]
     },
     "execution_count": 8,
     "metadata": {},
     "output_type": "execute_result"
    }
   ],
   "source": [
    "df.head(10)"
   ]
  },
  {
   "cell_type": "code",
   "execution_count": 30,
   "metadata": {},
   "outputs": [
    {
     "name": "stderr",
     "output_type": "stream",
     "text": [
      "C:\\Anaconda\\lib\\site-packages\\ipykernel_launcher.py:2: SettingWithCopyWarning: \n",
      "A value is trying to be set on a copy of a slice from a DataFrame\n",
      "\n",
      "See the caveats in the documentation: http://pandas.pydata.org/pandas-docs/stable/indexing.html#indexing-view-versus-copy\n",
      "  \n"
     ]
    }
   ],
   "source": [
    "df2 = df[df.Amount < -500]\n",
    "df2.drop(['Type', 'Balance', 'Check or Slip #', 'Details'], axis=1, inplace=True)"
   ]
  },
  {
   "cell_type": "code",
   "execution_count": 31,
   "metadata": {},
   "outputs": [
    {
     "name": "stderr",
     "output_type": "stream",
     "text": [
      "C:\\Anaconda\\lib\\site-packages\\ipykernel_launcher.py:1: SettingWithCopyWarning: \n",
      "A value is trying to be set on a copy of a slice from a DataFrame.\n",
      "Try using .loc[row_indexer,col_indexer] = value instead\n",
      "\n",
      "See the caveats in the documentation: http://pandas.pydata.org/pandas-docs/stable/indexing.html#indexing-view-versus-copy\n",
      "  \"\"\"Entry point for launching an IPython kernel.\n"
     ]
    }
   ],
   "source": [
    "df2['Posting Date'] = pd.to_datetime(df['Posting Date'])"
   ]
  },
  {
   "cell_type": "code",
   "execution_count": 34,
   "metadata": {},
   "outputs": [],
   "source": [
    "df2.set_index('Posting Date', inplace=True)"
   ]
  },
  {
   "cell_type": "code",
   "execution_count": 39,
   "metadata": {},
   "outputs": [],
   "source": [
    "df.drop(['Details', 'Type', 'Balance', 'Check or Slip #'], axis=1, inplace=True)"
   ]
  },
  {
   "cell_type": "code",
   "execution_count": 52,
   "metadata": {},
   "outputs": [],
   "source": [
    "df.set_index(pd.to_datetime(df['Posting Date']), inplace=True)"
   ]
  },
  {
   "cell_type": "code",
   "execution_count": 58,
   "metadata": {},
   "outputs": [],
   "source": [
    "df.drop('Posting Date', inplace=True)"
   ]
  },
  {
   "cell_type": "code",
   "execution_count": 67,
   "metadata": {},
   "outputs": [
    {
     "name": "stderr",
     "output_type": "stream",
     "text": [
      "C:\\Anaconda\\lib\\site-packages\\ipykernel_launcher.py:1: SettingWithCopyWarning: \n",
      "A value is trying to be set on a copy of a slice from a DataFrame\n",
      "\n",
      "See the caveats in the documentation: http://pandas.pydata.org/pandas-docs/stable/indexing.html#indexing-view-versus-copy\n",
      "  \"\"\"Entry point for launching an IPython kernel.\n"
     ]
    }
   ],
   "source": [
    "df.drop('Posting Date', axis=1, inplace=True)"
   ]
  },
  {
   "cell_type": "code",
   "execution_count": 77,
   "metadata": {},
   "outputs": [
    {
     "data": {
      "text/html": [
       "<div>\n",
       "<style scoped>\n",
       "    .dataframe tbody tr th:only-of-type {\n",
       "        vertical-align: middle;\n",
       "    }\n",
       "\n",
       "    .dataframe tbody tr th {\n",
       "        vertical-align: top;\n",
       "    }\n",
       "\n",
       "    .dataframe thead th {\n",
       "        text-align: right;\n",
       "    }\n",
       "</style>\n",
       "<table border=\"1\" class=\"dataframe\">\n",
       "  <thead>\n",
       "    <tr style=\"text-align: right;\">\n",
       "      <th></th>\n",
       "      <th>Description</th>\n",
       "      <th>Amount</th>\n",
       "    </tr>\n",
       "    <tr>\n",
       "      <th>Posting Date</th>\n",
       "      <th></th>\n",
       "      <th></th>\n",
       "    </tr>\n",
       "  </thead>\n",
       "  <tbody>\n",
       "    <tr>\n",
       "      <th>2017-09-25</th>\n",
       "      <td>PAYPAL           INST XFER  NEKOKIN         WE...</td>\n",
       "      <td>-535.00</td>\n",
       "    </tr>\n",
       "    <tr>\n",
       "      <th>2017-09-20</th>\n",
       "      <td>KEY CR. TRANSFER ONLINE-BK  017262172295647 WE...</td>\n",
       "      <td>775.00</td>\n",
       "    </tr>\n",
       "    <tr>\n",
       "      <th>2017-09-06</th>\n",
       "      <td>WITHDRAWAL 09/06</td>\n",
       "      <td>-535.00</td>\n",
       "    </tr>\n",
       "    <tr>\n",
       "      <th>2017-08-23</th>\n",
       "      <td>KEY CR. TRANSFER ONLINE-BK  017234832356136 WE...</td>\n",
       "      <td>1150.00</td>\n",
       "    </tr>\n",
       "    <tr>\n",
       "      <th>2017-07-26</th>\n",
       "      <td>PAYPAL           INST XFER  HAYLEYGG689     WE...</td>\n",
       "      <td>-625.00</td>\n",
       "    </tr>\n",
       "    <tr>\n",
       "      <th>2017-07-25</th>\n",
       "      <td>KEY CR. TRANSFER ONLINE-BK  017205722656729 WE...</td>\n",
       "      <td>1150.00</td>\n",
       "    </tr>\n",
       "    <tr>\n",
       "      <th>2017-06-27</th>\n",
       "      <td>PAYPAL           INST XFER  HAYLEYGG689     WE...</td>\n",
       "      <td>-625.00</td>\n",
       "    </tr>\n",
       "    <tr>\n",
       "      <th>2017-06-20</th>\n",
       "      <td>KEY CR. TRANSFER ONLINE-BK  017170535047993 WE...</td>\n",
       "      <td>1150.00</td>\n",
       "    </tr>\n",
       "    <tr>\n",
       "      <th>2017-05-30</th>\n",
       "      <td>PAYPAL           INST XFER  HAYLEYGG689     WE...</td>\n",
       "      <td>-625.00</td>\n",
       "    </tr>\n",
       "    <tr>\n",
       "      <th>2017-05-23</th>\n",
       "      <td>KEY CR. TRANSFER ONLINE-BK  017142522049488 WE...</td>\n",
       "      <td>1150.00</td>\n",
       "    </tr>\n",
       "    <tr>\n",
       "      <th>2017-04-27</th>\n",
       "      <td>PAYPAL           INST XFER  HAYLEYGG689     WE...</td>\n",
       "      <td>-625.00</td>\n",
       "    </tr>\n",
       "    <tr>\n",
       "      <th>2017-04-25</th>\n",
       "      <td>KEY CR. TRANSFER ONLINE-BK  017114117728049 WE...</td>\n",
       "      <td>1136.67</td>\n",
       "    </tr>\n",
       "    <tr>\n",
       "      <th>2017-04-19</th>\n",
       "      <td>KEY CR. TRANSFER ONLINE-BK  017108890677584 WE...</td>\n",
       "      <td>585.00</td>\n",
       "    </tr>\n",
       "    <tr>\n",
       "      <th>2017-04-17</th>\n",
       "      <td>Chase QuickPay Electronic Transfer 6156767891 ...</td>\n",
       "      <td>-540.00</td>\n",
       "    </tr>\n",
       "    <tr>\n",
       "      <th>2017-04-17</th>\n",
       "      <td>Online Transfer from SAV ...9660 transaction#:...</td>\n",
       "      <td>540.00</td>\n",
       "    </tr>\n",
       "    <tr>\n",
       "      <th>2017-04-10</th>\n",
       "      <td>PAYPAL           INST XFER  HAYLEYGG689     WE...</td>\n",
       "      <td>-625.00</td>\n",
       "    </tr>\n",
       "  </tbody>\n",
       "</table>\n",
       "</div>"
      ],
      "text/plain": [
       "                                                    Description   Amount\n",
       "Posting Date                                                            \n",
       "2017-09-25    PAYPAL           INST XFER  NEKOKIN         WE...  -535.00\n",
       "2017-09-20    KEY CR. TRANSFER ONLINE-BK  017262172295647 WE...   775.00\n",
       "2017-09-06                                     WITHDRAWAL 09/06  -535.00\n",
       "2017-08-23    KEY CR. TRANSFER ONLINE-BK  017234832356136 WE...  1150.00\n",
       "2017-07-26    PAYPAL           INST XFER  HAYLEYGG689     WE...  -625.00\n",
       "2017-07-25    KEY CR. TRANSFER ONLINE-BK  017205722656729 WE...  1150.00\n",
       "2017-06-27    PAYPAL           INST XFER  HAYLEYGG689     WE...  -625.00\n",
       "2017-06-20    KEY CR. TRANSFER ONLINE-BK  017170535047993 WE...  1150.00\n",
       "2017-05-30    PAYPAL           INST XFER  HAYLEYGG689     WE...  -625.00\n",
       "2017-05-23    KEY CR. TRANSFER ONLINE-BK  017142522049488 WE...  1150.00\n",
       "2017-04-27    PAYPAL           INST XFER  HAYLEYGG689     WE...  -625.00\n",
       "2017-04-25    KEY CR. TRANSFER ONLINE-BK  017114117728049 WE...  1136.67\n",
       "2017-04-19    KEY CR. TRANSFER ONLINE-BK  017108890677584 WE...   585.00\n",
       "2017-04-17    Chase QuickPay Electronic Transfer 6156767891 ...  -540.00\n",
       "2017-04-17    Online Transfer from SAV ...9660 transaction#:...   540.00\n",
       "2017-04-10    PAYPAL           INST XFER  HAYLEYGG689     WE...  -625.00"
      ]
     },
     "execution_count": 77,
     "metadata": {},
     "output_type": "execute_result"
    }
   ],
   "source": [
    "df[(df['Amount'] < -500) | (df['Amount'] > 500)]['2017-10-01':'2017-04-01']"
   ]
  }
 ],
 "metadata": {
  "kernelspec": {
   "display_name": "Python 3",
   "language": "python",
   "name": "python3"
  },
  "language_info": {
   "codemirror_mode": {
    "name": "ipython",
    "version": 3
   },
   "file_extension": ".py",
   "mimetype": "text/x-python",
   "name": "python",
   "nbconvert_exporter": "python",
   "pygments_lexer": "ipython3",
   "version": "3.6.6"
  }
 },
 "nbformat": 4,
 "nbformat_minor": 2
}
